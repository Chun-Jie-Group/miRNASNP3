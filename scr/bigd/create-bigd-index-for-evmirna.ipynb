{
 "metadata": {
  "language_info": {
   "codemirror_mode": {
    "name": "ipython",
    "version": 3
   },
   "file_extension": ".py",
   "mimetype": "text/x-python",
   "name": "python",
   "nbconvert_exporter": "python",
   "pygments_lexer": "ipython3",
   "version": "3.7.6-final"
  },
  "orig_nbformat": 2,
  "kernelspec": {
   "name": "python37664bitanaconda3virtualenv0008b0062b2c4da7b4e9e6d9e137aaaf",
   "display_name": "Python 3.7.6 64-bit ('anaconda3': virtualenv)"
  }
 },
 "nbformat": 4,
 "nbformat_minor": 2,
 "cells": [
  {
   "cell_type": "code",
   "execution_count": 1,
   "metadata": {},
   "outputs": [],
   "source": [
    "import json\n",
    "import uuid\n",
    "from pymongo import MongoClient"
   ]
  },
  {
   "cell_type": "code",
   "execution_count": 2,
   "metadata": {},
   "outputs": [],
   "source": [
    "db_dict = {\n",
    "    \"id\": \"evmirna\",\n",
    "    \"title\": \"EVmiRNA\",\n",
    "    \"url\": \"http://bioinfo.life.hust.edu.cn/EVmiRNA/\",\n",
    "    \"description\": \"EVmiRNA is a database of miRNA profiling in extracellular vesicles\",\n",
    "    \"basicInfo\": \"Extracellular vesicles (EVs) released by living cells include exosomes and microvesicles (MVs), which contain various molecules from parental cells and are potential sources for disease diagnostic and therapeutic biomarkers. miRNA is the most well-studied molecule type in EVs because of its important functions and biomarker properties. Thus, we build the Extracellular Vesicles miRNA database (EVmiRNA) to collect comprehensive miRNA expression profiles in EVs. In EVmiRNA database, we analyzed 462 smRNA sequencing datasets of EVs from 17 tissues/diseases. The miRNA expression profiles, miRNA regulated pathways, miRNA function, miRNA related drugs and publications are showed to support the miRNA biomarker discovery.\",\n",
    "    \"categories\": [\"miRNA\", \"extracellular vesicles\", \"disease\"],\n",
    "    \"species\": [\"Homo Sapiens\"],\n",
    "    \"updatedAt\": \"2019-08-30 11:11:11\"\n",
    "}"
   ]
  },
  {
   "cell_type": "code",
   "execution_count": 3,
   "metadata": {},
   "outputs": [],
   "source": [
    "class MongoMir:\n",
    "    __mongo = MongoClient(\"mongodb://username:passwd@ip:port/dbname\")\n",
    "\n",
    "    def __init__(self, col_name = 'mirinfo'):\n",
    "        self.__col_name = col_name\n",
    "    \n",
    "    def get_data(self, output={}, condition={}):\n",
    "        output['_id'] = 0\n",
    "        mcur = self.__mongo.mirnasnp[self.__col_name].find(\n",
    "            condition, output, no_cursor_timeout=True\n",
    "        )\n",
    "        return mcur.count()\n",
    "\n",
    "    def get_mirnas(self):\n",
    "        mcur = self.__mongo.EVmiRNA.mir_annotation.find(\n",
    "            {}, {'_id': 0, 'miRNA_id': 1}\n",
    "        )\n",
    "        res = [item['miRNA_id'] for item in mcur]\n",
    "        return res\n"
   ]
  },
  {
   "cell_type": "code",
   "execution_count": 4,
   "metadata": {},
   "outputs": [],
   "source": [
    "class ENTRY(object):\n",
    "    def __init__(self, type, title, url):\n",
    "        self.id = str(uuid.uuid4())\n",
    "        self.type = type\n",
    "        self.title = title\n",
    "        self.url = url\n",
    "        self.dbId = \"evmirna\"\n",
    "        self.updatedAt = \"2019-08-30 11:11:11\"\n",
    "        self.description = \"\"\n",
    "        self.basicInfo = \"\"\n",
    "        self.species = [\"Homo Sapiens\"]\n",
    "        self.attrs = {\n",
    "            \"symbol\": title,\n",
    "        }\n",
    "    def __getattr__(self, attr):\n",
    "        return self[attr]"
   ]
  },
  {
   "cell_type": "code",
   "execution_count": 5,
   "metadata": {},
   "outputs": [],
   "source": [
    "def get_entry(it, type = 'miRNA ID'):\n",
    "    url = f'http://bioinfo.life.hust.edu.cn/EVmiRNA#!/miRNA_info?miRNA={it}'\n",
    "    e = ENTRY(type, it, url)\n",
    "\n",
    "    return json.dumps(e.__dict__)"
   ]
  },
  {
   "cell_type": "code",
   "execution_count": 6,
   "metadata": {},
   "outputs": [],
   "source": [
    "mongo_mirnasnp = MongoMir()\n",
    "mirna_ids = mongo_mirnasnp.get_mirnas()"
   ]
  },
  {
   "cell_type": "code",
   "execution_count": 7,
   "metadata": {},
   "outputs": [],
   "source": [
    "with open('/home/liucj/index.bs', 'w') as fh:\n",
    "    header = 'DB' + '\\t' + json.dumps(db_dict) + '\\n'\n",
    "    fh.write(header)\n",
    "\n",
    "    for it in mirna_ids:\n",
    "        line = 'ENTRY' + '\\t' + get_entry(it = it, type = 'miRNA ID') + '\\n'\n",
    "\n",
    "        fh.write(line)"
   ]
  }
 ]
}