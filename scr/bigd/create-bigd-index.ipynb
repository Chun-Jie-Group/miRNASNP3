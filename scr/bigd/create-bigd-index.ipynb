{
 "metadata": {
  "language_info": {
   "codemirror_mode": {
    "name": "ipython",
    "version": 3
   },
   "file_extension": ".py",
   "mimetype": "text/x-python",
   "name": "python",
   "nbconvert_exporter": "python",
   "pygments_lexer": "ipython3",
   "version": "3.7.6-final"
  },
  "orig_nbformat": 2,
  "kernelspec": {
   "name": "python3",
   "display_name": "Python 3"
  }
 },
 "nbformat": 4,
 "nbformat_minor": 2,
 "cells": [
  {
   "cell_type": "markdown",
   "metadata": {},
   "source": [
    "# Create miRNASNP-v3 index for BIGD\n",
    "\n",
    "Guide to for index file [NGDC](https://bigd.big.ac.cn/standards/dis) Bigsearch system (index.bs)\n",
    "\n",
    "**index.bs** file structure as following:\n",
    "\n",
    "```\n",
    "DB JSON_ENCODED_STRING\n",
    "ENTRY JSON_ENCODED_STRING\n",
    "```"
   ]
  },
  {
   "cell_type": "code",
   "execution_count": 57,
   "metadata": {},
   "outputs": [],
   "source": [
    "import json\n",
    "import uuid\n",
    "from pymongo import MongoClient"
   ]
  },
  {
   "cell_type": "code",
   "execution_count": 58,
   "metadata": {},
   "outputs": [],
   "source": [
    "db_dict = {\n",
    "    \"id\": \"mirnasnp\",\n",
    "    \"title\": \"miRNASNP-v3\",\n",
    "    \"url\": \"http://bioinfo.life.hust.edu.cn/miRNASNP/\",\n",
    "    \"description\": \"miRNASNP-v3 is a comprehensive database for SNPs and disease-related variations in miRNAs and miRNA targets\",\n",
    "    \"basicInfo\": \"In miRNASNP-v3, 46,826 SNPs in human 1,897 pre-miRNAs (2,624 mature miRNAs) and 7,115,796  SNPs in 3'UTRs of 18,151 genes were characterized. Besides, 505,417 disease-related variations (DRVs) from GWAS, ClinVar and COSMIC were identified in miRNA and gene 3'UTR. Gene enrichment of target gain/loss by variations in miRNA seed region was provided.\",\n",
    "    \"categories\": [\"miRNA\", \"mutation\", \"disease\"],\n",
    "    \"species\": [\"Homo Sapiens\"],\n",
    "    \"updateAt\": \"2020-09-02 11:11:11\"\n",
    "}"
   ]
  },
  {
   "cell_type": "code",
   "execution_count": 157,
   "metadata": {},
   "outputs": [],
   "source": [
    "class MongoMir:\n",
    "    # __mongo = MongoClient(\"mongodb://username:passwd@ip:port/dbname\")\n",
    "    \n",
    "\n",
    "    def __init__(self, col_name = 'mirinfo'):\n",
    "        self.__col_name = col_name\n",
    "    \n",
    "    def get_data(self, output={}, condition={}):\n",
    "        output['_id'] = 0\n",
    "        mcur = self.__mongo.mirnasnp[self.__col_name].find(\n",
    "            condition, output, no_cursor_timeout=True\n",
    "        )\n",
    "        return mcur.count()\n",
    "\n",
    "    def get_mirnas(self):\n",
    "        mcur = self.__mongo.mirnasnp.pri_mir_summary.find(\n",
    "            {}, {'_id': 0, 'mir_id': 1, 'mir_chr': 1, 'mir_start': 1, 'mir_end': 1}\n",
    "        ).limit(2)\n",
    "        # res = [{'mir_id': item['mir_id'], 'loci': f\"{item['mir_chr']}:{item['mir_start']}-{item['mir_end']}\"} for item in mcur]\n",
    "        res = [item['mir_id'] for item in mcur]\n",
    "        return res\n",
    "    \n",
    "    def get_genes(self):\n",
    "        mcur = self.__mongo.mirnasnp.mutation_summary_genelist.find(\n",
    "            {}, {'_id': 0, 'gene_symbol': 1}\n",
    "        ).limit(10)\n",
    "\n",
    "        m_symbol = set([item['gene_symbol'] for item in mcur])\n",
    "\n",
    "        mcur = self.__mongo.mirnasnp.snp_summary_genelist.find(\n",
    "            {}, {'_id': 0, 'gene_symbol': 1}\n",
    "        ).limit(10)\n",
    "\n",
    "        s_symbol = set([item['gene_symbol'] for item in mcur])\n",
    "\n",
    "        return m_symbol.union(s_symbol)\n"
   ]
  },
  {
   "cell_type": "code",
   "execution_count": 158,
   "metadata": {},
   "outputs": [
    {
     "output_type": "execute_result",
     "data": {
      "text/plain": "['hsa-miR-6859-5p', 'hsa-miR-6859-3p']"
     },
     "metadata": {},
     "execution_count": 158
    }
   ],
   "source": [
    "m1 = MongoMir()\n",
    "m1.get_mirnas()"
   ]
  },
  {
   "cell_type": "code",
   "execution_count": 159,
   "metadata": {},
   "outputs": [
    {
     "output_type": "execute_result",
     "data": {
      "text/plain": "{'A1BG',\n 'A1CF',\n 'A2M',\n 'A2ML1',\n 'A4GALT',\n 'A4GNT',\n 'AAAS',\n 'AACS',\n 'AADAC',\n 'AADACL2'}"
     },
     "metadata": {},
     "execution_count": 159
    }
   ],
   "source": [
    "mm = MongoMir()\n",
    "mm.get_genes()"
   ]
  },
  {
   "cell_type": "code",
   "execution_count": 84,
   "metadata": {},
   "outputs": [
    {
     "output_type": "execute_result",
     "data": {
      "text/plain": "19889"
     },
     "metadata": {},
     "execution_count": 84
    }
   ],
   "source": [
    "mm = MongoMir('mutation_summary_genelist')\n",
    "mm.get_data()"
   ]
  },
  {
   "cell_type": "code",
   "execution_count": 86,
   "metadata": {},
   "outputs": [
    {
     "output_type": "execute_result",
     "data": {
      "text/plain": "21895"
     },
     "metadata": {},
     "execution_count": 86
    }
   ],
   "source": [
    "mm = MongoMir('snp_summary_genelist')\n",
    "mm.get_data()"
   ]
  },
  {
   "cell_type": "code",
   "execution_count": 59,
   "metadata": {},
   "outputs": [],
   "source": [
    "class ENTRY(object):\n",
    "    def __init__(self):\n",
    "        self.id = str(uuid.uuid4())\n",
    "        self.type = \"gene\"\n",
    "        self.title = \"\"\n",
    "        self.url = \"http://bioinfo.life.hust.edu.cn/miRNASNP/#!/mirna?mirna_id=hsa-miR-10b-5p\"\n",
    "        self.dbId = \"mirnasnp\"\n",
    "        self.updatedAt = \"2020-09-02 11:11:11\"\n",
    "        self.description = \"\"\n",
    "        self.basicInfo = \"\"\n",
    "        self.species = [\"Homo Sapiens\"]\n",
    "        self.attrs = {\n",
    "            \"accession\": \"\",\n",
    "        }\n",
    "    def __getattr__(self, attr):\n",
    "        return self[attr]"
   ]
  },
  {
   "cell_type": "code",
   "execution_count": null,
   "metadata": {},
   "outputs": [],
   "source": []
  },
  {
   "cell_type": "code",
   "execution_count": null,
   "metadata": {},
   "outputs": [],
   "source": []
  }
 ]
}