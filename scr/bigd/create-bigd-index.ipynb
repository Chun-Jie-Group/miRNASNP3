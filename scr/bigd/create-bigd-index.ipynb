{
 "metadata": {
  "language_info": {
   "codemirror_mode": {
    "name": "ipython",
    "version": 3
   },
   "file_extension": ".py",
   "mimetype": "text/x-python",
   "name": "python",
   "nbconvert_exporter": "python",
   "pygments_lexer": "ipython3",
   "version": "3.7.6-final"
  },
  "orig_nbformat": 2,
  "kernelspec": {
   "name": "python3",
   "display_name": "Python 3"
  }
 },
 "nbformat": 4,
 "nbformat_minor": 2,
 "cells": [
  {
   "cell_type": "markdown",
   "metadata": {},
   "source": [
    "# Create miRNASNP-v3 index for BIGD\n",
    "\n",
    "Guide to for index file [NGDC](https://bigd.big.ac.cn/standards/dis) Bigsearch system (index.bs)\n",
    "\n",
    "**index.bs** file structure as following:\n",
    "\n",
    "```\n",
    "DB JSON_ENCODED_STRING\n",
    "ENTRY JSON_ENCODED_STRING\n",
    "```"
   ]
  },
  {
   "cell_type": "code",
   "execution_count": 14,
   "metadata": {},
   "outputs": [],
   "source": [
    "import json\n",
    "import uuid"
   ]
  },
  {
   "cell_type": "code",
   "execution_count": 40,
   "metadata": {},
   "outputs": [],
   "source": [
    "db_dict = {\n",
    "    \"id\": \"mirnasnp\",\n",
    "    \"title\": \"miRNASNP-v3\",\n",
    "    \"url\": \"http://bioinfo.life.hust.edu.cn/miRNASNP/\",\n",
    "    \"description\": \"miRNASNP-v3: a comprehensive database for SNPs and disease-related variations in miRNAs and miRNA targets\",\n",
    "    \"basicInfo\": \"In miRNASNP-v3, 46,826 SNPs in human 1,897 pre-miRNAs (2,624 mature miRNAs) and 7,115,796  SNPs in 3'UTRs of 18,151 genes were characterized. Besides, 505,417 disease-related variations (DRVs) from GWAS, ClinVar and COSMIC were identified in miRNA and gene 3'UTR. Gene enrichment of target gain/loss by variations in miRNA seed region was provided.\",\n",
    "    \"categories\": [\"miRNA\", \"mutation\", \"disease\"],\n",
    "    \"species\": [\"Homo Sapiens\"],\n",
    "    \"updateAt\": \"2020-09-02 11:11:11\"\n",
    "}"
   ]
  },
  {
   "cell_type": "code",
   "execution_count": 44,
   "metadata": {},
   "outputs": [],
   "source": [
    "class ENTRY(object):\n",
    "    def __init__(self):\n",
    "        self.id = str(uuid.uuid4())\n",
    "        self.type = \"gene\"\n",
    "        self.title = \"\"\n",
    "        self.url = \"\"\n",
    "        self.dbId = \"mirnasnp\"\n",
    "        self.updatedAt = \"2020-09-02 11:11:11\"\n",
    "        self.description = \"\"\n",
    "        self.basicInfo = \"\"\n",
    "        self.species = [\"Homo Sapiens\"]\n",
    "        self.attrs = {\n",
    "            \"accession\": \"\",\n",
    "        }\n",
    "    def __getattr__(self, attr):\n",
    "        return self[attr]"
   ]
  },
  {
   "cell_type": "code",
   "execution_count": null,
   "metadata": {},
   "outputs": [],
   "source": []
  }
 ]
}